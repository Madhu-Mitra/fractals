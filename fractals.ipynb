{
 "cells": [
  {
   "cell_type": "code",
   "execution_count": 1,
   "metadata": {
    "scrolled": true
   },
   "outputs": [],
   "source": [
    "import turtle\n",
    "\n",
    "import time\n",
    "\n"
   ]
  },
  {
   "cell_type": "code",
   "execution_count": null,
   "metadata": {
    "scrolled": true
   },
   "outputs": [],
   "source": [
    "def tree(t,length,n):\n",
    "    \n",
    "    if length < (length/n):\n",
    "           return\n",
    "    t.forward(length)\n",
    "    t.left(45)\n",
    "    tree(t,length * 0.5,length/n)\n",
    "    t.left(20)\n",
    "    tree(t,length * 0.5,length/n)\n",
    "    t.right(75)\n",
    "    tree(t,length * 0.5,length/n)\n",
    "    t.right(20)\n",
    "    tree(t,length * 0.5,length/n)\n",
    "    t.left(30)\n",
    "    t.backward(length)\n",
    "    return\n",
    "t = turtle.Turtle()\n",
    "t.hideturtle()\n",
    "t.speed(100)\n",
    "t.left(90)\n",
    "t.backward(30)\n",
    "tree(t,200,4)"
   ]
  },
  {
   "cell_type": "markdown",
   "metadata": {},
   "source": [
    "<img src=\"fractal_tree.png\"> "
   ]
  },
  {
   "cell_type": "code",
   "execution_count": null,
   "metadata": {},
   "outputs": [],
   "source": [
    "def draw_square():\n",
    "    t.forward(100)\n",
    "    t.left(90)\n",
    "    t.forward(100)\n",
    "    t.left(90)\n",
    "    t.forward(100)\n",
    "    t.left(90)\n",
    "    t.forward(100)\n",
    "    t.left(90)\n",
    "t = turtle.Turtle()\n",
    "t.hideturtle()\n",
    "t.speed(100)    \n",
    "t.color('green')\n",
    "for i in range(360):\n",
    "    draw_square()\n",
    "    t.left(i)\n",
    "\n"
   ]
  },
  {
   "cell_type": "markdown",
   "metadata": {},
   "source": [
    "<img src=\"square_fractal.png\"> "
   ]
  },
  {
   "cell_type": "code",
   "execution_count": 2,
   "metadata": {},
   "outputs": [],
   "source": [
    "\n",
    "\n",
    "def koch_curve(t, iterations, length, shortening_factor, angle):\n",
    "\n",
    "    if iterations == 0:\n",
    "        t.forward(length)\n",
    "    else:\n",
    "        iterations = iterations - 1\n",
    "        length = length / shortening_factor\n",
    "\n",
    "        koch_curve(t, iterations, length, shortening_factor, angle)\n",
    "        t.left(angle)\n",
    "        koch_curve(t, iterations, length, shortening_factor, angle)\n",
    "        t.right(angle * 2)\n",
    "        koch_curve(t, iterations, length, shortening_factor, angle)\n",
    "        t.left(angle)\n",
    "        koch_curve(t, iterations, length, shortening_factor, angle)\n",
    "\n",
    "t = turtle.Turtle()\n",
    "t.hideturtle()\n",
    "t.speed(100)\n",
    "\n",
    "for i in range(3):\n",
    "    koch_curve(t, 4, 500, 3, 60)\n",
    "    t.right(120)\n",
    "\n"
   ]
  },
  {
   "cell_type": "markdown",
   "metadata": {},
   "source": [
    "<img src=\"koch_snowflake.png\">"
   ]
  },
  {
   "cell_type": "markdown",
   "metadata": {},
   "source": [
    "<image src=\"koch_snowflake.png\">"
   ]
  },
  {
   "cell_type": "code",
   "execution_count": null,
   "metadata": {},
   "outputs": [],
   "source": []
  },
  {
   "cell_type": "code",
   "execution_count": null,
   "metadata": {},
   "outputs": [],
   "source": []
  }
 ],
 "metadata": {
  "kernelspec": {
   "display_name": "Python 3",
   "language": "python",
   "name": "python3"
  },
  "language_info": {
   "codemirror_mode": {
    "name": "ipython",
    "version": 3
   },
   "file_extension": ".py",
   "mimetype": "text/x-python",
   "name": "python",
   "nbconvert_exporter": "python",
   "pygments_lexer": "ipython3",
   "version": "3.8.2"
  }
 },
 "nbformat": 4,
 "nbformat_minor": 4
}
